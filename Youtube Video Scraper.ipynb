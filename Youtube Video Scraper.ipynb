{
 "cells": [
  {
   "cell_type": "code",
   "execution_count": 2,
   "id": "1a15914c",
   "metadata": {},
   "outputs": [
    {
     "name": "stdout",
     "output_type": "stream",
     "text": [
      "Collecting pytube\n",
      "  Downloading pytube-12.1.0-py3-none-any.whl (56 kB)\n",
      "Installing collected packages: pytube\n",
      "Successfully installed pytube-12.1.0\n"
     ]
    }
   ],
   "source": [
    "!pip install pytube"
   ]
  },
  {
   "cell_type": "code",
   "execution_count": 3,
   "id": "33d2d7a9",
   "metadata": {},
   "outputs": [],
   "source": [
    "from pytube import YouTube"
   ]
  },
  {
   "cell_type": "code",
   "execution_count": 4,
   "id": "f7ec7171",
   "metadata": {},
   "outputs": [
    {
     "name": "stdout",
     "output_type": "stream",
     "text": [
      "Enter Link of Youtube Video: https://www.youtube.com/watch?v=lX-3nGHDhQg\n"
     ]
    }
   ],
   "source": [
    "link = input(\"Enter Link of Youtube Video: \")\n",
    "yt = YouTube(link)"
   ]
  },
  {
   "cell_type": "code",
   "execution_count": 5,
   "id": "4c02dce6",
   "metadata": {},
   "outputs": [
    {
     "name": "stdout",
     "output_type": "stream",
     "text": [
      "Title : K-means Clustering From Scratch in Python [Beginner Tutorial]\n",
      "Views : 2384\n",
      "Duration : 2344\n",
      "Description : In this project, we'll build a k-means clustering algorithm from scratch. Clustering is an unsupervised machine learning technique that can find patterns in your data. K-means is one of the most popular forms of clustering.\n",
      "\n",
      "We'll create our algorithm using python and pandas. We'll then compare it to the reference implementation from scikit-learn.\n",
      "\n",
      "You can find the full project code here - https://github.com/dataquestio/project-walkthroughs/tree/master/kmeans .\n",
      "\n",
      "You can download the data here - https://www.kaggle.com/datasets/stefanoleone992/fifa-22-complete-player-dataset .\n",
      "\n",
      "Project Steps\n",
      "- Write out pseudocode for the algorithm\n",
      "- Code the k-means algorithm\n",
      "- Plot the clusters from the algorithm\n",
      "- Compare performance to the scikit-learn algorithm\n",
      "\n",
      "Chapters\n",
      "\n",
      "00:00 Intro\n",
      "00:37 k-means overview\n",
      "02:51 Loading in and cleaning FIFA data\n",
      "06:11 Scaling the data\n",
      "10:31 Initialize random centroids\n",
      "14:20 Finding cluster labels for each data point\n",
      "19:29 Update centroid values\n",
      "23:30 Plotting k-means iterations\n",
      "28:24 Pulling the algorithm together\n",
      "35:25 Comparing our implementation to scikit-learn\n",
      "37:56 Conclusion and next steps\n",
      "\n",
      "------------------------------\n",
      "Join 1M+ Dataquest learners today!\n",
      "Master data skills and change your life.\n",
      "Sign up for free: https://bit.ly/3O8MDef\n",
      "Ratings : None\n"
     ]
    }
   ],
   "source": [
    "# To print title\n",
    "print(\"Title :\", yt.title)\n",
    "# To get number of views\n",
    "print(\"Views :\", yt.views)\n",
    "# To get the length of video\n",
    "print(\"Duration :\", yt.length)\n",
    "# To get description\n",
    "print(\"Description :\", yt.description)\n",
    "# To get ratings\n",
    "print(\"Ratings :\", yt.rating)"
   ]
  },
  {
   "cell_type": "code",
   "execution_count": 6,
   "id": "280b02d3",
   "metadata": {},
   "outputs": [
    {
     "name": "stdout",
     "output_type": "stream",
     "text": [
      "Download completed!!\n"
     ]
    }
   ],
   "source": [
    "stream = yt.streams.get_highest_resolution()\n",
    "stream.download()\n",
    "print(\"Download completed!!\")"
   ]
  },
  {
   "cell_type": "code",
   "execution_count": null,
   "id": "78fab4ce",
   "metadata": {},
   "outputs": [],
   "source": []
  }
 ],
 "metadata": {
  "kernelspec": {
   "display_name": "Python 3 (ipykernel)",
   "language": "python",
   "name": "python3"
  },
  "language_info": {
   "codemirror_mode": {
    "name": "ipython",
    "version": 3
   },
   "file_extension": ".py",
   "mimetype": "text/x-python",
   "name": "python",
   "nbconvert_exporter": "python",
   "pygments_lexer": "ipython3",
   "version": "3.9.12"
  }
 },
 "nbformat": 4,
 "nbformat_minor": 5
}
